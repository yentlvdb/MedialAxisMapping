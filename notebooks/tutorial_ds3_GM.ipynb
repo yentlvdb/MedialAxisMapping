{
 "cells": [
  {
   "cell_type": "markdown",
   "id": "7a510d51-0944-476d-866a-2c35b2f318db",
   "metadata": {},
   "source": [
    "There has been an increasing interest in multimodal imaging techniques that exploit the assets of multiple modalities jointly. In the microscopy domain, light microscopy (LM) and electron microscopy (EM) can be combined such that functional information (obtained by LM) can be combined with contextual high resolution ultrastructural visualization (obtained by EM). This multimodal microscopy approach is called correlative light and electron microscopy (CLEM). \n",
    "\n",
    "To optimally take advantage of this multimodal technique, the image modalities need to be aligned using a technique called image registration. This is typically done in two steps: first a global, rough alignment is performed, followed by a local, refined alignment."
   ]
  },
  {
   "cell_type": "markdown",
   "id": "610f8111-93c1-4dd0-afdb-cd7dedfc0af5",
   "metadata": {},
   "source": [
    "This work proposes a method to align a subset of challenging CLEM alignment problems where an initial alignment is potentially difficult to find. Our method bases its alignment on a structure nicely spread throughout tissues and that is stainable in LM: the blood vessels. It focuses on aligning the blood vessel medial axes rather than the contour. It combines a feature-based and intensity-based approach: first a set of potential global overlays is selected based on the blood vessel bifurcations present in the volume, small matrix computations. From this set a final overlay is selected based on an intensity similarity metric, large matrices."
   ]
  },
  {
   "cell_type": "markdown",
   "id": "8361e02c-a828-467d-b653-715d3e452d95",
   "metadata": {},
   "source": [
    "<img src=\"overv2_apr25.png\" width=\"800\"/>"
   ]
  },
  {
   "cell_type": "markdown",
   "id": "81d8e213-cacc-4e71-89c9-fb49c10c96fc",
   "metadata": {},
   "source": [
    "Let us first load in the different libraries: napari (for viewing the images and adding points and line layers. The LM images can be viewed in 3D while the EM images are too dense and can only be viewed in 2D slices), 3dtransforms (decompose an affine transformation matrix), opencv (matrix transformation), skimage (general image processing algorithms), sklearn (similarity metrics) and scipy (general image processing algorithms). "
   ]
  },
  {
   "cell_type": "code",
   "execution_count": 7,
   "id": "d3688384",
   "metadata": {},
   "outputs": [],
   "source": [
    "import numpy as np\n",
    "import tifffile as tiff\n",
    "import matplotlib.pyplot as plt\n",
    "import napari\n",
    "from itertools import permutations, combinations\n",
    "import math\n",
    "import random\n",
    "import cv2\n",
    "from scipy import spatial, ndimage, stats\n",
    "from sklearn.metrics import confusion_matrix, mean_squared_error, cluster\n",
    "from skimage.morphology import skeletonize, binary_erosion, binary_dilation, convex_hull_image\n",
    "from collections import Counter\n",
    "import os"
   ]
  },
  {
   "cell_type": "code",
   "execution_count": 2,
   "id": "6a67d84c",
   "metadata": {},
   "outputs": [],
   "source": [
    "np.set_printoptions(suppress=True)"
   ]
  },
  {
   "cell_type": "code",
   "execution_count": 2,
   "id": "9230d493-650e-41cb-b792-bad93d4fff1a",
   "metadata": {},
   "outputs": [
    {
     "name": "stderr",
     "output_type": "stream",
     "text": [
      "Cloning into 'MedialAxisMapping'...\n"
     ]
    }
   ],
   "source": [
    "#os.getcwd()\n",
    "#!git clone https://github.com/yentlvdb/MedialAxisMapping.git\n",
    "#cd C:\\\\Users\\\\yentl\\\\MedialAxisMapping"
   ]
  },
  {
   "cell_type": "code",
   "execution_count": 13,
   "id": "1fd6e166-cc75-4912-a47f-8af6541b9ade",
   "metadata": {},
   "outputs": [],
   "source": [
    "from algorithm import *"
   ]
  },
  {
   "cell_type": "code",
   "execution_count": 19,
   "id": "48fc3b5d-a716-434b-a477-875ad4b32d23",
   "metadata": {},
   "outputs": [],
   "source": [
    "em_ori = tiff.imread(\"data/ds3_EM.tif\")\n",
    "lm_ori = tiff.imread(\"data/ds3_LM_blv.tif\")\n",
    "lm_ori2 = tiff.imread(\"data/ds3_LM_nc.tif\")"
   ]
  },
  {
   "cell_type": "code",
   "execution_count": 17,
   "id": "66571e2c-eccf-4389-b339-b07513327947",
   "metadata": {},
   "outputs": [
    {
     "name": "stdout",
     "output_type": "stream",
     "text": [
      "(185, 369, 182)\n"
     ]
    }
   ],
   "source": [
    "print(em_ori.shape)"
   ]
  },
  {
   "cell_type": "markdown",
   "id": "68390486-0271-4758-9671-6d7883e9fad1",
   "metadata": {},
   "source": [
    "Load in the images: EM image and 2-channel-LM (blood vessel and nucleus staining). The images are isotropic (resolution LM along the z axis), and view them in napari(LM 3D viewer, EM 2D viewer)."
   ]
  },
  {
   "cell_type": "code",
   "execution_count": 21,
   "id": "4aa4028c",
   "metadata": {},
   "outputs": [
    {
     "data": {
      "text/plain": [
       "<Image layer 'lm_ori2' at 0x26257408380>"
      ]
     },
     "execution_count": 21,
     "metadata": {},
     "output_type": "execute_result"
    }
   ],
   "source": [
    "viewer_em_3d = napari.Viewer(ndisplay=2)\n",
    "viewer_em_3d.add_image(em_ori)\n",
    "viewer_lm_3d = napari.Viewer(ndisplay=3)\n",
    "viewer_lm_3d.add_image(lm_ori, colormap='cyan')\n",
    "viewer_lm_3d.add_image(lm_ori2, colormap='magenta')"
   ]
  },
  {
   "cell_type": "markdown",
   "id": "954dffe0-b2f2-4e8a-91f9-f7a52ca85353",
   "metadata": {},
   "source": [
    "The different steps of the algorithm for global alignment thus are (see the figure above):\n",
    "1. create input: two graphs representing the underlying blood vessel pattern\n",
    "   1. defining nodes and edges\n",
    "   2. or use predefined input\n",
    "   3. graph       \n",
    "3. from these nodes all possible subsets of three = all triangles\n",
    "   1. LM z axis: small\n",
    "   2. thus 3 nodes, with 4th node on normal of plane formed by the 3 points\n",
    "5. determine all pairs having a similar amount of edges: 0, 1 or 2\n",
    "6. select all triangle pairs having minimal shear and scale components = selected candidates for intensity-based evaluation\n",
    "7. select the transform having the highest similarity metric"
   ]
  },
  {
   "cell_type": "markdown",
   "id": "67bc874b",
   "metadata": {},
   "source": [
    "# 1) Creating two graphs representing the underlying blood vessel pattern"
   ]
  },
  {
   "cell_type": "markdown",
   "id": "1704601c-1c32-478e-9a44-aed28f793717",
   "metadata": {},
   "source": [
    "By defining vessel bifurcations as junctions and interlying vessel segments as edges two spatial global graphs are created: $G_{EM} = (V_{EM}, E_{EM})$ and $G_{LM}= (V_{LM}, E_{LM})$, with $V_{EM}$ a set of m nodes $\\{v_{EM,0}, v_{EM,1}, ..., v_{EM,m-1}\\}$, with $v_{EM,i} = (x_{EM,i},y_{EM,i})$, a pixel in the EM image with coordinates $(x_i,y_i)$, and $E_{EM} \\subseteq \\{\\{v_i,v_j\\} \\mid v_i,v_j \\in V_{EM} \\}$, a set of edges i.e. pairs of nodes. Similarly $V_{LM}$ a set of n nodes $\\{v_{LM,0}, v_{LM,1}, ..., v_{LM,n-1}\\}$, with $v_{LM,i} = (x_{LM,i},y_{LM,i})$, a pixel in the LM image with coordinates $(x_i,y_i)$, and $E_{LM} \\subseteq \\{\\{v_i,v_j\\} \\mid v_i,v_j \\in V_{LM} \\}$.  \n",
    "\n",
    "In the image stacks here 4 LM bifurcations can be identified in the LM image modality and 6 EM nodes in the EM image modality. Additionaly, 3 LM and 3 EM nodes are selected from the larger blood vessel running though the volumes. "
   ]
  },
  {
   "cell_type": "markdown",
   "id": "9405d792-2500-405f-a891-17c2e0cdf37f",
   "metadata": {},
   "source": [
    "$V_{EM} = \\{v_{EM,0}, ..., v_{EM,m-1}\\}$\n",
    "\n",
    "$V_{LM} = \\{v_{LM,0}, ..., v_{LM,n-1}\\}$"
   ]
  },
  {
   "cell_type": "markdown",
   "id": "56561ab0-0ef4-4343-b861-b31be6c0d4d6",
   "metadata": {},
   "source": [
    "### defining nodes and edges"
   ]
  },
  {
   "cell_type": "markdown",
   "id": "b382cc75-a4e1-4d8e-a764-f166fca037a3",
   "metadata": {},
   "source": [
    "First we define the (bifurcation) nodes in both image modalities. We add an empty points layer and add nodes in the napari viewer in 2D modus. (Or go to the next subsection were sets of nodes and edges are predefined)."
   ]
  },
  {
   "cell_type": "code",
   "execution_count": 111,
   "id": "168ae60f-959e-4b88-b18f-903d2d62b8a2",
   "metadata": {},
   "outputs": [],
   "source": [
    "points_layer_lm = viewer_lm_3d.add_points([-10,-10,-10])\n",
    "points_layer_em = viewer_em_3d.add_points([-10,-10,-10])"
   ]
  },
  {
   "cell_type": "markdown",
   "id": "49e2cd1a-e9f4-4b26-bdde-be4c6c78abd3",
   "metadata": {},
   "source": [
    "Now extract the added nodes from the viewer:"
   ]
  },
  {
   "cell_type": "code",
   "execution_count": 113,
   "id": "1a9c431e-4470-480a-b6c0-150998b79fc6",
   "metadata": {},
   "outputs": [],
   "source": [
    "V_lm = points_layer_lm.data[1:]\n",
    "V_em = points_layer_em.data[1:]"
   ]
  },
  {
   "cell_type": "markdown",
   "id": "35ccfe71-74fd-4a8d-b510-337cae8fda7b",
   "metadata": {},
   "source": [
    "Next we define the present edges, blood vessel segments connecting the predefined nodes. In 2D lines can simply be drawn between nodes. However in 3D, this function does not exist (yet). We solve for this by immitating the line draw function by the pieces of code below. A new node layer is added, where nodes with subsequent odd and even indices are endnodes of an edge. "
   ]
  },
  {
   "cell_type": "code",
   "execution_count": 115,
   "id": "a08b1fa9-32cf-4a62-9161-16c11522610e",
   "metadata": {},
   "outputs": [
    {
     "name": "stderr",
     "output_type": "stream",
     "text": [
      "C:\\Users\\yentl\\AppData\\Local\\Temp\\ipykernel_16852\\2829603116.py:12: FutureWarning: Argument 'edge_width' is deprecated, please use 'border_width' instead. The argument 'edge_width' was deprecated in 0.5.0 and it will be removed in 0.6.0.\n",
      "  points_layer = viewer_lm_3d.add_points([-10,-10,-10],\n",
      "C:\\Users\\yentl\\anaconda3\\Lib\\site-packages\\napari\\utils\\migrations.py:101: FutureWarning: Argument 'edge_width_is_relative' is deprecated, please use 'border_width_is_relative' instead. The argument 'edge_width_is_relative' was deprecated in 0.5.0 and it will be removed in 0.6.0.\n",
      "  return func(*args, **kwargs)\n",
      "C:\\Users\\yentl\\anaconda3\\Lib\\site-packages\\napari\\utils\\migrations.py:101: FutureWarning: Argument 'edge_color' is deprecated, please use 'border_color' instead. The argument 'edge_color' was deprecated in 0.5.0 and it will be removed in 0.6.0.\n",
      "  return func(*args, **kwargs)\n"
     ]
    }
   ],
   "source": [
    "# set text\n",
    "text = {\n",
    "    \"string\": \"label\",\n",
    "    'size': 10,\n",
    "    'color': 'orange',\n",
    "}\n",
    "\n",
    "#features = {'label': np.empty(0, dtype=int)}\n",
    "features = {'label': np.array([0])}\n",
    "\n",
    "# add (empty) points layer\n",
    "points_layer = viewer_lm_3d.add_points([-10,-10,-10],\n",
    "    features = features,\n",
    "    name='points',\n",
    "    size=30,\n",
    "    edge_width=0.1,\n",
    "    edge_width_is_relative=True,\n",
    "    edge_color='orange',\n",
    "    face_color='transparent',\n",
    "    text=text,\n",
    ")\n",
    "\n",
    "# fire function to set point labels everytime points are added\n",
    "@points_layer.events.data.connect\n",
    "def set_point_labels():  \n",
    "    global points_layer\n",
    "    no_of_points = len(points_layer.data)\n",
    "    points_layer.feature_defaults['label'] = no_of_points\n",
    "    points_layer.properties[\"label\"][0:no_of_points] = range(0, no_of_points)\n",
    "    points_layer.text.values[0:no_of_points] = [str(i) for i in range(0, no_of_points)]\n",
    "\n",
    "# fire function set_point_labels once at the start\n",
    "set_point_labels()\n",
    "    \n",
    "# points layer ready for adding points after opening\n",
    "points_layer.mode = 'add'\n",
    "\n",
    "napari.run()"
   ]
  },
  {
   "cell_type": "code",
   "execution_count": 126,
   "id": "049409b1-a36a-49c2-8e47-8f09d02000d5",
   "metadata": {},
   "outputs": [],
   "source": [
    "E_lm = edges_from_edgepointlayer(points_layer, V_lm, projected=True)"
   ]
  },
  {
   "cell_type": "markdown",
   "id": "79164c72-1917-4454-8546-a42023091e52",
   "metadata": {},
   "source": [
    "And now similarly for the EM image:"
   ]
  },
  {
   "cell_type": "code",
   "execution_count": 130,
   "id": "fb8759d8-123d-429f-9dc9-123e006bd2f1",
   "metadata": {},
   "outputs": [
    {
     "name": "stderr",
     "output_type": "stream",
     "text": [
      "C:\\Users\\yentl\\AppData\\Local\\Temp\\ipykernel_16852\\3979256823.py:12: FutureWarning: Argument 'edge_width' is deprecated, please use 'border_width' instead. The argument 'edge_width' was deprecated in 0.5.0 and it will be removed in 0.6.0.\n",
      "  points_layer = viewer_em_3d.add_points([-10,-10,-10],\n",
      "C:\\Users\\yentl\\anaconda3\\Lib\\site-packages\\napari\\utils\\migrations.py:101: FutureWarning: Argument 'edge_width_is_relative' is deprecated, please use 'border_width_is_relative' instead. The argument 'edge_width_is_relative' was deprecated in 0.5.0 and it will be removed in 0.6.0.\n",
      "  return func(*args, **kwargs)\n",
      "C:\\Users\\yentl\\anaconda3\\Lib\\site-packages\\napari\\utils\\migrations.py:101: FutureWarning: Argument 'edge_color' is deprecated, please use 'border_color' instead. The argument 'edge_color' was deprecated in 0.5.0 and it will be removed in 0.6.0.\n",
      "  return func(*args, **kwargs)\n"
     ]
    }
   ],
   "source": [
    "# set text\n",
    "text = {\n",
    "    \"string\": \"label\",\n",
    "    'size': 10,\n",
    "    'color': 'orange',\n",
    "}\n",
    "\n",
    "#features = {'label': np.empty(0, dtype=int)}\n",
    "features = {'label': np.array([0])}\n",
    "\n",
    "# add (empty) points layer\n",
    "points_layer = viewer_em_3d.add_points([-10,-10,-10],\n",
    "    features = features,\n",
    "    name='points',\n",
    "    size=30,\n",
    "    edge_width=0.1,\n",
    "    edge_width_is_relative=True,\n",
    "    edge_color='orange',\n",
    "    face_color='transparent',\n",
    "    text=text,\n",
    ")\n",
    "\n",
    "# fire function to set point labels everytime points are added\n",
    "@points_layer.events.data.connect\n",
    "def set_point_labels():  \n",
    "    global points_layer\n",
    "    no_of_points = len(points_layer.data)\n",
    "    points_layer.feature_defaults['label'] = no_of_points\n",
    "    points_layer.properties[\"label\"][0:no_of_points] = range(0, no_of_points)\n",
    "    points_layer.text.values[0:no_of_points] = [str(i) for i in range(0, no_of_points)]\n",
    "\n",
    "# fire function set_point_labels once at the start\n",
    "set_point_labels()\n",
    "    \n",
    "# points layer ready for adding points after opening\n",
    "points_layer.mode = 'add'\n",
    "\n",
    "napari.run()"
   ]
  },
  {
   "cell_type": "code",
   "execution_count": 132,
   "id": "9573c9ca-6ee1-4fd4-aeea-240d16cca4b6",
   "metadata": {},
   "outputs": [],
   "source": [
    "E_em = edges_from_edgepointlayer(points_layer, V_em, projected=False)"
   ]
  },
  {
   "cell_type": "markdown",
   "id": "bd3466a1-19bc-452f-93bb-b2d013616e2a",
   "metadata": {},
   "source": [
    "### or predefined nodes and edges"
   ]
  },
  {
   "cell_type": "code",
   "execution_count": 42,
   "id": "696bc498-bb93-4e4b-937e-1e836cce4d97",
   "metadata": {},
   "outputs": [],
   "source": [
    "V_lm= np.array([[30, 362, 436],\n",
    "        [38, 396, 94],\n",
    "        [40, 402, 187],\n",
    "        [30, 444, 367],\n",
    "        [28, 232, 155],\n",
    "        [27, 130, 281],\n",
    "        [28, 191, 6]])//2\n",
    "E_lm = [[6, 4], [4, 5], [1, 2], [2, 3], [3, 0]]\n",
    "\n",
    "V_em = np.array([[144, 28, 43],\n",
    "        [146, 28, 123],\n",
    "        [221, 676, 134],\n",
    "        [240, 501, 332],\n",
    "        [237, 549, 285],\n",
    "        [201, 336, 352],\n",
    "        [199, 207, 254],\n",
    "        [177, 205, 85],\n",
    "        [99, 625, 100]])//2\n",
    "E_em = [[7, 6], [5, 6], [0, 1], [2, 4], [3, 4]]"
   ]
  },
  {
   "cell_type": "markdown",
   "id": "36d5fdf7-5df1-4f80-8f6f-d641d85bb5ff",
   "metadata": {},
   "source": [
    "### now we can create graph instances from these nodes and edges"
   ]
  },
  {
   "cell_type": "code",
   "execution_count": 47,
   "id": "05493a90-8d84-48e3-a614-fff2f8b5916f",
   "metadata": {},
   "outputs": [],
   "source": [
    "label_and_view_points(V_lm,viewer_lm_3d)\n",
    "view_edges(E_lm, V_lm, viewer_lm_3d)\n",
    "\n",
    "label_and_view_points(V_em,viewer_em_3d)\n",
    "view_edges(E_em, V_em, viewer_em_3d)"
   ]
  },
  {
   "cell_type": "code",
   "execution_count": 44,
   "id": "7b3f1f94-342b-4810-ad10-affe26586e1c",
   "metadata": {},
   "outputs": [],
   "source": [
    "# graph instance nu obv nodes niet edges\n",
    "G_em = Graph(V_em, E_em)\n",
    "G_lm = Graph(V_lm, E_lm)"
   ]
  },
  {
   "cell_type": "code",
   "execution_count": 94,
   "id": "bb7fd14d-e47e-4a7d-a8db-97ca9e1257df",
   "metadata": {},
   "outputs": [
    {
     "name": "stdout",
     "output_type": "stream",
     "text": [
      "{0: {'index': 0, 'z': 15, 'y': 181, 'x': 218}, 1: {'index': 1, 'z': 19, 'y': 198, 'x': 47}, 2: {'index': 2, 'z': 20, 'y': 201, 'x': 93}, 3: {'index': 3, 'z': 15, 'y': 222, 'x': 183}, 4: {'index': 4, 'z': 14, 'y': 116, 'x': 77}, 5: {'index': 5, 'z': 13, 'y': 65, 'x': 140}, 6: {'index': 6, 'z': 14, 'y': 95, 'x': 3}}\n"
     ]
    }
   ],
   "source": [
    "print(G_lm.nodes)"
   ]
  },
  {
   "attachments": {},
   "cell_type": "markdown",
   "id": "6c46ec44-3bc3-4730-9d45-2faaf881823c",
   "metadata": {},
   "source": [
    "# 2) Generation of all subsets of three nodes"
   ]
  },
  {
   "cell_type": "markdown",
   "id": "9ff2f738-5411-4e05-af3b-c38e95c67de1",
   "metadata": {},
   "source": [
    "In 3D space, finding an affine transformation matrix thus corresponds with finding four paired not linearly dependent points. Since the LM modality is rather 'thin' (z dimension is significantly smaller than x and y dimensions), the fourth point contains no extra information since it is lying in the plane described by the other three points. As a solution, three points are sufficient to estimate an affine transform, assuming no scaling or shearing in the direction perpendicular to the plane containing the three points. The fourth point is calculated as lying on a fixed distance on the normal, defined as $\\overrightarrow{n} = \\overrightarrow{p_{0} p_{1}} \\times \\overrightarrow{p_{0} p_{2}}$, of the plane, added to the center of the triangle formed by the three other nodes."
   ]
  },
  {
   "cell_type": "markdown",
   "id": "26b3136e-67c8-43c9-acf9-d3439a0ead4a",
   "metadata": {},
   "source": [
    "From both sets of nodes $V_{EM}$ and $V_{LM}$ subsets of 3 nodes are considered: $S_{lm} = \\{[0,1,2],[0,1,3],...,[n-2,n-1,n]\\}$ and\n",
    "$S_{em} = \\{[0,1,2],[0,1,3],...,[m-2,m-1,m]\\}$, with m the amount of LM nodes and n the amount of EM nodes. There are thus $\\binom{m}{3} = \\frac{m!}{3!(m-3)!}$ and $\\binom{n}{3} = \\frac{n!}{3!(n-3)!}$ of those subsets of EM nodes and LM nodes respectively."
   ]
  },
  {
   "cell_type": "code",
   "execution_count": 56,
   "id": "bddc6cd3-ab87-4be7-af9f-df7513ebf743",
   "metadata": {},
   "outputs": [
    {
     "name": "stdout",
     "output_type": "stream",
     "text": [
      "There are 84 EM triangles and 35 LM triangles.\n"
     ]
    }
   ],
   "source": [
    "S_em = G_em.get_all_subsets_of_three_nodes() \n",
    "S_lm = G_lm.get_all_subsets_of_three_nodes()\n",
    "print(\"There are %r EM triangles and %r LM triangles.\" % (len(S_em), len(S_lm)))"
   ]
  },
  {
   "cell_type": "markdown",
   "id": "5a16b887-6da6-467f-8e61-8b2df48de665",
   "metadata": {},
   "source": [
    "Let us visualize a random triangle in the LM image:"
   ]
  },
  {
   "cell_type": "code",
   "execution_count": 282,
   "id": "7b71b292-94f4-4252-879c-6fa254c1d4ac",
   "metadata": {},
   "outputs": [
    {
     "name": "stdout",
     "output_type": "stream",
     "text": [
      "(1, 2, 5)\n"
     ]
    }
   ],
   "source": [
    "idx = random.randint(0,len(S_lm))\n",
    "visualize_triangle(S_lm[idx], V_lm, viewer_lm_3d)"
   ]
  },
  {
   "cell_type": "markdown",
   "id": "316a6ecd-3b98-4ac9-b022-04f36b44a5c3",
   "metadata": {},
   "source": [
    "# 3) Pairs of triangles with similar edge counts"
   ]
  },
  {
   "cell_type": "markdown",
   "id": "23363ce2-3e8c-4023-a688-387dfcd7bf1e",
   "metadata": {},
   "source": [
    "These subsets of 3 points are then matched. A majority of the triangle pairs correspond with physiologically impossible deformations, and should be filtered out. This is done on two levels. On a first level all triangle pairs that have a different amount of edges in their subgraphs are filtered out.\n",
    "Triangle pairs having the same amount of edges are selected for further evaluation."
   ]
  },
  {
   "cell_type": "markdown",
   "id": "ecf08b57-c43f-43ff-97e8-929f07982276",
   "metadata": {},
   "source": [
    "The presence of one or two edges results in one paired node, and thus two possible permutations to evaluate. The presence of no edges results in no paired nodes and thus all 6 possible permutations to evaluate.\n",
    "Since the amount of LM triangles is high we will only consider triangles having one edge or two edges, since triangles having zero (or three) edges result in more possible permutations than triangles having one edge or two edges (respectively 6 and 2 permutations)."
   ]
  },
  {
   "cell_type": "code",
   "execution_count": 58,
   "id": "f283c4d5-d0b9-470f-89c1-c1d5b8ab27db",
   "metadata": {},
   "outputs": [
    {
     "name": "stdout",
     "output_type": "stream",
     "text": [
      "There are 595 paired triangles having the same amount of edges with a minimum of 1 edge(s).\n"
     ]
    }
   ],
   "source": [
    "min_amount = 1\n",
    "paired_triangles_based_on_edge_count = find_matching_subsets(G_em, G_lm, min_amount)\n",
    "print(\"There are %r paired triangles having the same amount of edges with a minimum of %r edge(s).\" % (len(paired_triangles_based_on_edge_count),min_amount))"
   ]
  },
  {
   "cell_type": "code",
   "execution_count": 60,
   "id": "da1bc26a-b22b-4e25-8521-df6b20ecfd8d",
   "metadata": {},
   "outputs": [
    {
     "name": "stdout",
     "output_type": "stream",
     "text": [
      "There are 1682 triangles that do not match with respect to edge count. 663, 589 and 6 do match with respectively 0, 1 and 2 edges.\n"
     ]
    },
    {
     "data": {
      "image/png": "[encoded data removed]",
      "text/plain": [
       "<Figure size 640x480 with 1 Axes>"
      ]
     },
     "metadata": {},
     "output_type": "display_data"
    }
   ],
   "source": [
    "matrix = matching_subsets_edgecountmatrix(G_lm, G_em)\n",
    "plt.imshow(matrix, cmap='grey')\n",
    "#plt.axis('off')\n",
    "plt.xticks(color='white')\n",
    "plt.yticks(color='white')\n",
    "plt.xlabel(\"EM triangles\")\n",
    "plt.ylabel(\"LM triangles\")\n",
    "unique, counts = np.unique(matrix, return_counts=True)\n",
    "print(\"There are %r triangles that do not match with respect to edge count. %r, %r and %r do match with respectively 0, 1 and 2 edges.\" % (counts[0], counts[1], counts[2], counts[3]))"
   ]
  },
  {
   "cell_type": "markdown",
   "id": "50503d7f-1ed0-4547-a575-c31d4a2f37b3",
   "metadata": {},
   "source": [
    "# 4) Physiologically possible affine transformations should have minimal shear and scale components"
   ]
  },
  {
   "cell_type": "markdown",
   "id": "961a9471-04d8-4dea-bf03-301c652bf03c",
   "metadata": {},
   "source": [
    "For each subset we now add a fourth point on the normal, defined as $\\overrightarrow{n} = \\overrightarrow{p_{0} p_{1}} \\times \\overrightarrow{p_{0} p_{2}}$, of the plane formed by the three other nodes. Now every tetrahedron pair corresponds with an affine transformation. Again the majority of these affine transformation correspond with physiologically impossible deformations, and should be filtered out. On this second level this is done by decomposing the affine transformation matrices into separate translation, rotation, shear and scale matrices. \n",
    "\n",
    "$A = T \\cdot R \\cdot Z \\cdot S$ \n",
    "\n",
    "With $A$ an affine transformation mapping point $(z,y,x)$ on point $(z',y',x')$:\n",
    "\n",
    "$\\begin{pmatrix}\n",
    "   z' \\\\\n",
    "   y' \\\\\n",
    "   x' \\\\\n",
    "   1 \\\\\n",
    "   \\end{pmatrix}\n",
    " =\n",
    " \\begin{pmatrix}\n",
    "   A_{11}  & A_{12} & A_{13} & t_z\\\\\n",
    "   A_{21}  & A_{22} & A_{23} & t_y\\\\\n",
    "   A_{31}  & A_{32} & A_{33} & t_x\\\\\n",
    "   0 & 0 & 0 & 1\\\\\n",
    "   \\end{pmatrix}\n",
    " \\cdot \n",
    " \\begin{pmatrix}\n",
    "   z \\\\\n",
    "   y \\\\\n",
    "   x \\\\\n",
    "   1 \\\\\n",
    "   \\end{pmatrix}$\n",
    "\n",
    "Since $A$ is written in homogeneous coordinates such that a translation can be written as a matrix multiplication, $T$ can be straightforwardly extracted from $A$, and:\n",
    "\n",
    "$\\begin{pmatrix}\n",
    "   A_{11}  & A_{12} & A_{13} \\\\\n",
    "   A_{21}  & A_{22} & A_{23} \\\\\n",
    "   A_{31}  & A_{32} & A_{33} \\\\\n",
    "   \\end{pmatrix}\n",
    " =\n",
    " \\begin{pmatrix}\n",
    "   R_{11}  & R_{12} & R_{13} \\\\\n",
    "   R_{21}  & R_{22} & R_{23} \\\\\n",
    "   R_{31}  & R_{32} & R_{33} \\\\\n",
    "   \\end{pmatrix}\n",
    " \\begin{pmatrix}\n",
    "   1  & sh_{zy} & sh_{zx}\\\\\n",
    "   0  & 1 & sh_{yx} \\\\\n",
    "   0 & 0 & 1 \\\\\n",
    "   \\end{pmatrix}\n",
    " \\begin{pmatrix}\n",
    "   sc_z  & 0 & 0 \\\\\n",
    "   0  & sc_y & 0 \\\\\n",
    "   0 & 0 & sc_x \\\\\n",
    "   \\end{pmatrix}$\n",
    "\n",
    "$R$ is a rotation matrix, and is thus orthogonal with $R \\cdot R^T = I_3$\n",
    "\n",
    "If we now compute $B = (R \\cdot Z \\cdot S)^T \\cdot (R \\cdot Z \\cdot S) = R^T \\cdot R \\cdot (Z \\cdot S)^T \\cdot (Z \\cdot S) = I_3 \\cdot (Z \\cdot S)^T \\cdot (Z \\cdot S) = (Z \\cdot S)^T \\cdot (Z \\cdot S)$\n",
    "\n",
    "Since $Z$ is a diagonal matrix and $S$ is an upper triangular matrix, then the Cholesky decomposition of $B$ into a lower triangular matrix and its transpose: $B = L \\cdot L^T$ with $L^T = (Z \\cdot S)$ and $L = (Z \\cdot S)^T$ straightforwardly gives us $Z$ and $S$.\n",
    "\n",
    "Physiologically possible transformations should have shear and scale matrices close enough to the identity matrix, thus minimal shearing and scaling. All tetrahedron pairs deviating beyond a predefined threshold should be filtered out."
   ]
  },
  {
   "cell_type": "code",
   "execution_count": 167,
   "id": "db27ac43-ad17-4c75-9009-6f6acb6e2973",
   "metadata": {},
   "outputs": [
    {
     "name": "stdout",
     "output_type": "stream",
     "text": [
      "There are 14 tetrahedon pairs left.\n"
     ]
    }
   ],
   "source": [
    "all_aff_tfm, corresponding_pairs = filter_by_shear_and_scale(paired_triangles_based_on_edge_count, G_lm, G_em, scale_thr=1.5, shear_thr=0.1)\n",
    "print(\"There are %r tetrahedon pairs left.\" % (len(all_aff_tfm)))"
   ]
  },
  {
   "cell_type": "markdown",
   "id": "d846829a-bb29-472c-8857-bddfd710e0b7",
   "metadata": {},
   "source": [
    "compared with figure edge matching"
   ]
  },
  {
   "cell_type": "code",
   "execution_count": 207,
   "id": "af27c772-6a74-483b-8147-95d2725bb29a",
   "metadata": {},
   "outputs": [
    {
     "data": {
      "text/plain": [
       "Text(0.5, 0, 'EM triangles')"
      ]
     },
     "execution_count": 207,
     "metadata": {},
     "output_type": "execute_result"
    },
    {
     "data": {
      "image/png": "[encoded data removed]",
      "text/plain": [
       "<Figure size 640x480 with 2 Axes>"
      ]
     },
     "metadata": {},
     "output_type": "display_data"
    }
   ],
   "source": [
    "matrix2 = matching_tetrahedrons(S_lm, S_em, corresponding_pairs)\n",
    "ax1 = plt.subplot(2,1, 1)\n",
    "ax1.imshow(matrix, cmap='grey')\n",
    "plt.xticks(color='white')\n",
    "plt.yticks(color='white')\n",
    "plt.ylabel(\"LM triangles\")\n",
    "ax2 = plt.subplot(2,1, 2)\n",
    "ax2.imshow(matrix2, cmap='grey')\n",
    "plt.xticks(color='white')\n",
    "plt.yticks(color='white')\n",
    "plt.ylabel(\"LM triangles\")\n",
    "plt.xlabel(\"EM triangles\")"
   ]
  },
  {
   "cell_type": "markdown",
   "id": "176c131d-ecd8-451e-8e7a-6f2782289ac5",
   "metadata": {},
   "source": [
    "# 5) 5) Intensity-based search of the selected candidate affine transformation matrices"
   ]
  },
  {
   "cell_type": "markdown",
   "id": "6251b1bc-731d-4e68-bbf5-de1e4cefc4e5",
   "metadata": {},
   "source": [
    "The LM image is then transformed by the remaining, candidate affine transformations and the similarity is calculated between the EM image and the transformed LM image. The similarity metric of choice is the mutual information. Mutual information between two images describes how much information of one image is contained in the other image, or thus how the pixel-wise intensity values in one image can predict the pixel-wise intensity values in the other image. The higher this value is, the better the two images are aligned. Normalized mutual information (NMI) is calculated as:\n",
    "\n",
    "\\begin{equation}\n",
    "NMI(img_1,img_2) = \\sum_{i_2 \\in img_2} \\sum_{i_1 \\in img_1} p(i_1,i_2) \\log \\frac{p(i_1,i_2)}{p(i_1) p(i_2)}\n",
    "\\end{equation}\n",
    "\n",
    "with $p(i_1,i_2)$ the joint histogram and $p(i_1)$ and $p(i_2)$ the individual histograms. The NMI is thus high when the signal in the joint histogram is highly concentrated in a small number of bins. Incorporation of the individual histograms normalizes the mutual information to values between 1 (low similarity) to 2 (high similarity)."
   ]
  },
  {
   "cell_type": "code",
   "execution_count": 219,
   "id": "f554c098-e13a-48e3-8e14-624c756643e8",
   "metadata": {},
   "outputs": [],
   "source": [
    "optimal_aff_tfm, corresponding_pair = affine_transformation_with_highest_nmi(lm_ori, em_ori, all_aff_tfm, corresponding_pairs)"
   ]
  },
  {
   "cell_type": "code",
   "execution_count": 228,
   "id": "e5655b39-f450-499c-8854-dd2f14dcd6b2",
   "metadata": {},
   "outputs": [
    {
     "data": {
      "text/plain": [
       "<Image layer 'out [1]' at 0x1e95b3cfec0>"
      ]
     },
     "execution_count": 228,
     "metadata": {},
     "output_type": "execute_result"
    }
   ],
   "source": [
    "out = ndimage.affine_transform(lm_ori, optimal_aff_tfm, output_shape=em_ori.shape)\n",
    "viewer_em_3d.add_image(out, colormap='cyan', opacity=0.5)"
   ]
  },
  {
   "cell_type": "markdown",
   "id": "6e012385-9597-4730-9681-fa2339f9e21c",
   "metadata": {},
   "source": [
    "And this transformation corresponds with the triangle pair:"
   ]
  },
  {
   "cell_type": "code",
   "execution_count": 233,
   "id": "17575cd6-d0fe-4b11-9a92-f0f6ba6aabf4",
   "metadata": {},
   "outputs": [
    {
     "name": "stdout",
     "output_type": "stream",
     "text": [
      "[[7, 0, 1, 50], [4, 2, 1, -50]]\n",
      "[4, 2, 1]\n",
      "[7, 0, 1]\n"
     ]
    }
   ],
   "source": [
    "visualize_triangle(corresponding_pair[1][:3], V_lm, viewer_lm_3d)\n",
    "visualize_triangle(corresponding_pair[0][:3], V_em, viewer_em_3d)"
   ]
  },
  {
   "cell_type": "code",
   "execution_count": null,
   "id": "f16a034e-2092-4756-ac30-4a26de52957b",
   "metadata": {},
   "outputs": [],
   "source": []
  },
  {
   "cell_type": "code",
   "execution_count": null,
   "id": "3abb251b-dfbc-4e63-bdd8-3b691e347834",
   "metadata": {},
   "outputs": [],
   "source": []
  },
  {
   "cell_type": "code",
   "execution_count": null,
   "id": "632a9db5-505d-4a9d-acbe-e1cc26bfed42",
   "metadata": {},
   "outputs": [],
   "source": []
  }
 ],
 "metadata": {
  "kernelspec": {
   "display_name": "Python 3 (ipykernel)",
   "language": "python",
   "name": "python3"
  },
  "language_info": {
   "codemirror_mode": {
    "name": "ipython",
    "version": 3
   },
   "file_extension": ".py",
   "mimetype": "text/x-python",
   "name": "python",
   "nbconvert_exporter": "python",
   "pygments_lexer": "ipython3",
   "version": "3.12.3"
  }
 },
 "nbformat": 4,
 "nbformat_minor": 5
}
